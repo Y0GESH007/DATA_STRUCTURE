{
  "cells": [
    {
      "cell_type": "code",
      "execution_count": null,
      "metadata": {
        "colab": {
          "base_uri": "https://localhost:8080/"
        },
        "id": "8oXMlqTm5QS0",
        "outputId": "4d08fb1a-985c-43c1-e682-fd4655360b8c"
      },
      "outputs": [
        {
          "name": "stdout",
          "output_type": "stream",
          "text": [
            "Enter a string : HELLO\n",
            "Reverse string :  OLLEH\n"
          ]
        }
      ],
      "source": [
        "# Write a code to reverse a string.\n",
        "\n",
        "str=input(\"Enter a string : \")\n",
        "Reverse_str=str[::-1]\n",
        "print(\"Reverse string : \",Reverse_str)"
      ]
    },
    {
      "cell_type": "code",
      "execution_count": null,
      "metadata": {
        "colab": {
          "base_uri": "https://localhost:8080/"
        },
        "id": "0EEt_HFVsKnv",
        "outputId": "0e396443-e999-4574-d4a2-7dce30a09561"
      },
      "outputs": [
        {
          "name": "stdout",
          "output_type": "stream",
          "text": [
            "Enter sentence : yogesh patidar\n",
            "NO. of vowels in  \" yogesh patidar \" are 5\n"
          ]
        }
      ],
      "source": [
        "# Write a code to count the number of vowels in a string.\n",
        "\n",
        "sentence=input(\"Enter sentence : \")\n",
        "vowels=\"aeiouAEIOU\"\n",
        "count=0\n",
        "for i in sentence:\n",
        "    if i in vowels:\n",
        "        count+=1\n",
        "print(\"NO. of vowels in \",'\"',sentence,'\"',\"are\",count)"
      ]
    },
    {
      "cell_type": "code",
      "execution_count": null,
      "metadata": {
        "colab": {
          "base_uri": "https://localhost:8080/"
        },
        "id": "Gbjkrk6kxQep",
        "outputId": "35a08aaa-a188-4e7e-9d9c-6f9e36997d8a"
      },
      "outputs": [
        {
          "name": "stdout",
          "output_type": "stream",
          "text": [
            "Enter a string : Madam\n",
            "madam is a palindrome\n"
          ]
        }
      ],
      "source": [
        "# Write a code to check if a given string is a palindrome or not. palindrom meance after reversing string the same string has to be found.\n",
        "\n",
        "string=input(\"Enter a string : \")\n",
        "string=string.lower()\n",
        "reverse_string=string[::-1]\n",
        "if string==reverse_string:\n",
        "    print(string,\"is a palindrome\")\n",
        "else:\n",
        "    print(string,\"is not a palindrome\")"
      ]
    },
    {
      "cell_type": "code",
      "execution_count": null,
      "metadata": {
        "colab": {
          "base_uri": "https://localhost:8080/"
        },
        "id": "J0rZ_4Qnyfa_",
        "outputId": "fb1ea0c5-e9cc-49d0-d2ef-7dfe601b21f2"
      },
      "outputs": [
        {
          "name": "stdout",
          "output_type": "stream",
          "text": [
            "Enter first string : yogesh\n",
            "Enter second string : hsgeyo\n",
            "yogesh and hsgeyo are anagrams\n"
          ]
        }
      ],
      "source": [
        "# Write a code to check if two given strings are anagrams of each other. anagram meance two string has to be contans same character no mate4r in which order.\n",
        "\n",
        "string_1=input(\"Enter first string : \")\n",
        "string_2=input(\"Enter second string : \")\n",
        "string_1=string_1.lower()\n",
        "string_2=string_2.lower()\n",
        "if sorted(string_1)==sorted(string_2):\n",
        "    print(string_1,\"and\",string_2,\"are anagrams\")\n",
        "else:\n",
        "    print(string_1,\"and\",string_2,\"are not anagrams\")"
      ]
    },
    {
      "cell_type": "code",
      "execution_count": null,
      "metadata": {
        "colab": {
          "base_uri": "https://localhost:8080/"
        },
        "id": "GR7EH2pW1ClQ",
        "outputId": "582f1859-e307-4860-944f-c3c8bcdd0d5d"
      },
      "outputs": [
        {
          "name": "stdout",
          "output_type": "stream",
          "text": [
            "Enter string :find index of substring in string\n",
            "Enter substring :string\n",
            "The substring \" string \" found at index 17 in string \" find index of substring in string \"\n",
            "The substring \" string \" found at index 27 in string \" find index of substring in string \"\n"
          ]
        }
      ],
      "source": [
        "# Write a code to find all occurrences of a given substring within another string.\n",
        "\n",
        "string=input(\"Enter string :\")\n",
        "substring=input(\"Enter substring :\")\n",
        "start=0\n",
        "while True:\n",
        "  idx=string.find(substring,start)\n",
        "  if idx==-1:\n",
        "    break\n",
        "  print(\"The substring\",'\"',substring,'\"',\"found at index\",idx,\"in string\",'\"',string,'\"')\n",
        "  start=idx+1"
      ]
    },
    {
      "cell_type": "code",
      "execution_count": null,
      "metadata": {
        "colab": {
          "base_uri": "https://localhost:8080/"
        },
        "id": "2jvNE5xQqnUj",
        "outputId": "a3781050-89bf-4619-946d-e290fb33c66e"
      },
      "outputs": [
        {
          "name": "stdout",
          "output_type": "stream",
          "text": [
            "Enter string: yogeshh\n",
            "string dose not have all unique characters\n"
          ]
        }
      ],
      "source": [
        "# Write a code to determine if a string has all unique characters.\n",
        "\n",
        "string=input(\"Enter string: \")\n",
        "string=string.lower()\n",
        "seen_char=set()\n",
        "for i in string:\n",
        "  if i in seen_char:\n",
        "    print(\"string dose not have all unique characters\")\n",
        "    break\n",
        "  seen_char.add(i)\n",
        "else:\n",
        "  print(\"string has all unique characters\")"
      ]
    },
    {
      "cell_type": "code",
      "execution_count": null,
      "metadata": {
        "colab": {
          "base_uri": "https://localhost:8080/"
        },
        "id": "hjmfIXaxE-Sh",
        "outputId": "ede267f3-efbe-401e-fc64-c34c2a87e7cc"
      },
      "outputs": [
        {
          "name": "stdout",
          "output_type": "stream",
          "text": [
            "Enter string : YOGESH\n",
            "Enter 'u' for uppercase and 'l' for lowercase : l\n",
            "Lowercase string : yogesh\n"
          ]
        }
      ],
      "source": [
        "# Write a code to convert a given string to uppercase or lowercase.\n",
        "\n",
        "string=input(\"Enter string : \")\n",
        "cover=input(\"Enter 'u' for uppercase and 'l' for lowercase : \")\n",
        "if cover=='u':\n",
        "  print(\"Uppercase string :\",string.upper())\n",
        "elif cover=='l':\n",
        "  print(\"Lowercase string :\",string.lower())\n",
        "else:\n",
        "  print(\"Invalid input\")"
      ]
    },
    {
      "cell_type": "code",
      "execution_count": null,
      "metadata": {
        "colab": {
          "base_uri": "https://localhost:8080/"
        },
        "id": "2h_Jlnh2Fxcw",
        "outputId": "ebed923f-fcbc-4251-ffe8-f1cdf0da1d26"
      },
      "outputs": [
        {
          "name": "stdout",
          "output_type": "stream",
          "text": [
            "Enter string : i am yogesh patidar\n",
            "Number of words in string : 4\n"
          ]
        }
      ],
      "source": [
        "# Write a code to count the number of words in a string.\n",
        "\n",
        "string=input(\"Enter string : \")\n",
        "word=string.split()\n",
        "word_count=len(word)\n",
        "print(\"Number of words in string :\",word_count)\n"
      ]
    },
    {
      "cell_type": "code",
      "execution_count": null,
      "metadata": {
        "colab": {
          "base_uri": "https://localhost:8080/"
        },
        "id": "g21QiksxHM8_",
        "outputId": "0ffbc4b4-1df4-478c-bd29-3922ac4c613b"
      },
      "outputs": [
        {
          "name": "stdout",
          "output_type": "stream",
          "text": [
            "Enter first string : Yogesh\n",
            "Enter secound string : Patidar\n",
            "concatenated string : Yogesh Patidar\n"
          ]
        }
      ],
      "source": [
        "# Write a code to concatenate two strings without using the + operator.\n",
        "\n",
        "string1=input(\"Enter first string : \")\n",
        "string2=input(\"Enter secound string : \")\n",
        "print(\"concatenated string :\",' '.join([string1,string2]))"
      ]
    },
    {
      "cell_type": "code",
      "execution_count": null,
      "metadata": {
        "colab": {
          "base_uri": "https://localhost:8080/"
        },
        "id": "wilOh0m1J9nR",
        "outputId": "784cab00-c8e4-4627-94d8-0de72377dc8a"
      },
      "outputs": [
        {
          "name": "stdout",
          "output_type": "stream",
          "text": [
            "Enter specific element : 2\n",
            "Final list :  [1, 3, 4, 5, 6]\n"
          ]
        }
      ],
      "source": [
        "# Write a code to remove all occurrences of a specific element from a list.\n",
        "\n",
        "my_list=[1,2,3,4,5,6,2]\n",
        "spec_ele=int(input(\"Enter specific element : \"))\n",
        "for i in my_list:\n",
        "  if i==spec_ele:\n",
        "    my_list.remove(i)\n",
        "print(\"Final list : \",my_list)"
      ]
    },
    {
      "cell_type": "code",
      "execution_count": null,
      "metadata": {
        "colab": {
          "base_uri": "https://localhost:8080/"
        },
        "id": "FeWHlh2IPYkK",
        "outputId": "0c590c18-7b2b-4c0a-9af5-4a227d5829ea"
      },
      "outputs": [
        {
          "name": "stdout",
          "output_type": "stream",
          "text": [
            "second largest number :  8\n"
          ]
        }
      ],
      "source": [
        "# Implement a code to find the second largest number in a given list of integers.\n",
        "\n",
        "my_list=[2,4,3,9,6,8,4,2,1,0]\n",
        "my_list.sort()\n",
        "my_list.reverse()\n",
        "print(\"second largest number : \",my_list[1])"
      ]
    },
    {
      "cell_type": "code",
      "execution_count": null,
      "metadata": {
        "colab": {
          "base_uri": "https://localhost:8080/"
        },
        "id": "ABLehC8ERsxn",
        "outputId": "a2778def-c7a7-4884-d271-d371f5367bb8"
      },
      "outputs": [
        {
          "name": "stdout",
          "output_type": "stream",
          "text": [
            "{1: 3, 2: 3, 3: 2, 4: 2, 5: 1, 6: 1, 7: 2, 8: 1}\n"
          ]
        }
      ],
      "source": [
        "# Create a code to count the occurrences of each element in a list and return a dictionary with elements as keys and their counts as values.\n",
        "\n",
        "my_list=[1,2,3,1,1,2,4,5,2,6,7,7,8,3,4,]\n",
        "def count_occurrences(lst):\n",
        "  count_dict={}\n",
        "  for element in lst:\n",
        "    if element in count_dict:\n",
        "      count_dict[element]+=1\n",
        "    else:\n",
        "      count_dict[element]=1\n",
        "  return count_dict\n",
        "result=count_occurrences(my_list)\n",
        "print(result)"
      ]
    },
    {
      "cell_type": "code",
      "execution_count": null,
      "metadata": {
        "colab": {
          "base_uri": "https://localhost:8080/"
        },
        "id": "g1h1vtZ5GJ65",
        "outputId": "b265b852-38c1-4c9a-d43c-7d92616f783f"
      },
      "outputs": [
        {
          "name": "stdout",
          "output_type": "stream",
          "text": [
            "reverse list :  [0, 1, 2, 3, 4, 5]\n"
          ]
        }
      ],
      "source": [
        "# Write a code to reverse a list in-place without using any built-in reverse functions.\n",
        "\n",
        "lst=[5,4,3,2,1,0]\n",
        "reverse_lst=[]\n",
        "for i in range(len(lst)):\n",
        "  reverse_lst.insert(0,lst[i])\n",
        "print(\"reverse list : \",reverse_lst)"
      ]
    },
    {
      "cell_type": "code",
      "execution_count": null,
      "metadata": {
        "colab": {
          "base_uri": "https://localhost:8080/"
        },
        "id": "1kmvVzE-MAYn",
        "outputId": "77377a5b-7fea-417f-8b4a-94ab3f19b0ef"
      },
      "outputs": [
        {
          "name": "stdout",
          "output_type": "stream",
          "text": [
            "revrse list :  [0, 1, 2, 3, 4, 5]\n"
          ]
        }
      ],
      "source": [
        "# Write a code to reverse a list in-place without using any built-in reverse functions.\n",
        "\n",
        "lst=[5,4,3,2,1,0]\n",
        "reverse_lst=lst[::-1]\n",
        "print(\"revrse list : \",reverse_lst)"
      ]
    },
    {
      "cell_type": "code",
      "execution_count": null,
      "metadata": {
        "colab": {
          "base_uri": "https://localhost:8080/"
        },
        "id": "Bu99aIZmIuqr",
        "outputId": "c95b09f5-b620-4570-c8be-0b5a0217c087"
      },
      "outputs": [
        {
          "name": "stdout",
          "output_type": "stream",
          "text": [
            "Unique list :  [1, 2, 3, 4, 5, 6, 7, 8]\n"
          ]
        }
      ],
      "source": [
        "# Implement a code to find and remove duplicates from a list while preserving the original order of elements.\n",
        "\n",
        "lst=[1,2,3,1,1,2,4,5,2,6,7,7,8,3,4,]\n",
        "unique_lst=[]\n",
        "for i in lst:\n",
        "  if i in unique_lst:\n",
        "    continue\n",
        "  else:\n",
        "    unique_lst.append(i)\n",
        "print(\"Unique list : \",unique_lst)"
      ]
    },
    {
      "cell_type": "code",
      "execution_count": null,
      "metadata": {
        "colab": {
          "base_uri": "https://localhost:8080/"
        },
        "id": "wP8aUXDiKAJW",
        "outputId": "dcdda298-b3bc-45db-d868-c335af2824c7"
      },
      "outputs": [
        {
          "name": "stdout",
          "output_type": "stream",
          "text": [
            "List is sorted\n"
          ]
        }
      ],
      "source": [
        "# Create a code to check if a given list is sorted (either in ascending or descending order) or not.\n",
        "\n",
        "list=[5,4,3,2,1,0]\n",
        "Sorted_list=sorted(list)\n",
        "if list==Sorted_list:\n",
        "  print(\"List is sorted in assending order\")\n",
        "if list==sorted_list[::-1]\n",
        "else:\n",
        "  print(\"List is not sorted\")"
      ]
    },
    {
      "cell_type": "code",
      "execution_count": null,
      "metadata": {
        "colab": {
          "base_uri": "https://localhost:8080/"
        },
        "id": "qvUhbUSpKeo3",
        "outputId": "553261f8-8e67-4820-83b7-5749fc2a22ad"
      },
      "outputs": [
        {
          "name": "stdout",
          "output_type": "stream",
          "text": [
            "sorted list_1 :  [1, 2, 5, 6, 9]\n",
            "sorted list_2 :  [0, 3, 4, 7, 8]\n",
            "merge list :  [0, 1, 2, 3, 4, 5, 6, 7, 8, 9]\n"
          ]
        }
      ],
      "source": [
        "# Write a code to merge two sorted lists into a single sorted list.\n",
        "\n",
        "list_1=[1,2,5,6,9]\n",
        "list_2=[3,4,7,8,0]\n",
        "list_1.sort()\n",
        "list_2.sort()\n",
        "merge_list=list_1+list_2\n",
        "merge_list.sort()\n",
        "print(\"sorted list_1 : \",list_1)\n",
        "print(\"sorted list_2 : \",list_2)\n",
        "print(\"merge list : \",merge_list)"
      ]
    },
    {
      "cell_type": "code",
      "execution_count": null,
      "metadata": {
        "colab": {
          "base_uri": "https://localhost:8080/"
        },
        "id": "BxGCvKr_SzMj",
        "outputId": "6fba04dd-7cc9-42db-e6c9-6eaf87a59c96"
      },
      "outputs": [
        {
          "name": "stdout",
          "output_type": "stream",
          "text": [
            "intersection list :  [4, 5]\n"
          ]
        }
      ],
      "source": [
        "#  Implement a code to find the intersection of two given lists.\n",
        "\n",
        "list_1=[1,2,3,4,5]\n",
        "list_2=[4,5,6,7,8]\n",
        "intersection_list=[]\n",
        "for i in list_1:\n",
        "  if i in list_2:\n",
        "    intersection_list.append(i)\n",
        "print(\"intersection list : \",intersection_list)"
      ]
    },
    {
      "cell_type": "code",
      "execution_count": null,
      "metadata": {
        "colab": {
          "base_uri": "https://localhost:8080/"
        },
        "id": "Z6NBh18RXzo3",
        "outputId": "a08d667c-ed96-44b1-c03d-78da69eb2100"
      },
      "outputs": [
        {
          "name": "stdout",
          "output_type": "stream",
          "text": [
            "union list :  [1, 2, 3, 4, 5, 6, 7, 8]\n"
          ]
        }
      ],
      "source": [
        "# Create a code to find the union of two lists without duplicates.\n",
        "\n",
        "list_1=[1,2,3,4,5]\n",
        "list_2=[4,5,6,7,8]\n",
        "union_list=list(set(list_1+list_2))\n",
        "print(\"union list : \",union_list)"
      ]
    },
    {
      "cell_type": "code",
      "execution_count": null,
      "metadata": {
        "colab": {
          "base_uri": "https://localhost:8080/"
        },
        "id": "ThmIPrZ6YOsX",
        "outputId": "01620e7d-9a7f-481a-d12d-4ffab1d66cdb"
      },
      "outputs": [
        {
          "name": "stdout",
          "output_type": "stream",
          "text": [
            "Shuffled List: [4, 1, 2, 5, 3]\n"
          ]
        }
      ],
      "source": [
        "# Write a code to shuffle a given list randomly without using any built-in shuffle functions.\n",
        "\n",
        "import random\n",
        "my_list = [1, 2, 3, 4, 5]\n",
        "n = len(my_list)\n",
        "for i in range(n):\n",
        "    j = random.randint(0,n-1)\n",
        "    my_list[i], my_list[j] = my_list[j], my_list[i]\n",
        "print(\"Shuffled List:\", my_list)"
      ]
    },
    {
      "cell_type": "code",
      "execution_count": null,
      "metadata": {
        "colab": {
          "base_uri": "https://localhost:8080/"
        },
        "id": "q6U2ZhaYZzez",
        "outputId": "40064496-cc47-457d-c2bb-6b3afdcf9065"
      },
      "outputs": [
        {
          "name": "stdout",
          "output_type": "stream",
          "text": [
            "common list :  (4, 5)\n"
          ]
        }
      ],
      "source": [
        "# Write a code that takes two tuples as input and returns a new tuple containing elements that are common to both input tuples.\n",
        "\n",
        "tup_1=(1,2,3,4,5)\n",
        "tup_2=(4,5,6,7,8)\n",
        "common_tup=()\n",
        "for i in tup_1:\n",
        "  if i in tup_2:\n",
        "    common_tup+=(i,)\n",
        "print(\"common list : \",common_tup)"
      ]
    },
    {
      "cell_type": "code",
      "execution_count": null,
      "metadata": {
        "colab": {
          "base_uri": "https://localhost:8080/"
        },
        "id": "nwMNBwg-dMxk",
        "outputId": "01359674-5b2a-4ee7-bf43-c00d085a9d9c"
      },
      "outputs": [
        {
          "name": "stdout",
          "output_type": "stream",
          "text": [
            "Enter first set of integers separated by commas : 1,2,3,4,5\n",
            "Enter second set of integers separated by commas : 4,5,6,7,8\n",
            "interceted set :  {4, 5}\n"
          ]
        }
      ],
      "source": [
        "# Create a code that prompts the user to enter two sets of integers separated by commas. Then, print the intersection of these two sets.\n",
        "\n",
        "set_1=input(\"Enter first set of integers separated by commas : \")\n",
        "set_2=input(\"Enter second set of integers separated by commas : \")\n",
        "set_1=set(map(int,set_1.split(',')))\n",
        "set_2=set(map(int,set_2.split(',')))\n",
        "intersection_set=set_1.intersection(set_2)\n",
        "print(\"interceted set : \",intersection_set)"
      ]
    },
    {
      "cell_type": "code",
      "execution_count": null,
      "metadata": {
        "colab": {
          "base_uri": "https://localhost:8080/"
        },
        "id": "-Nt7jI5JyETZ",
        "outputId": "ad458f48-1153-40d3-9d96-e322228a95c9"
      },
      "outputs": [
        {
          "name": "stdout",
          "output_type": "stream",
          "text": [
            "concate tuple :  (1, 2, 3, 4, 5, 6, 7, 8, 9, 0)\n"
          ]
        }
      ],
      "source": [
        "# Write a code to concatenate two tuples. The function should take two tuples as input and return a new tuple containing elements from both input tuples.\n",
        "\n",
        "tup_1=(1,2,3,4,5)\n",
        "tup_2=(6,7,8,9,0)\n",
        "concate_tup=tup_1+tup_2\n",
        "print(\"concate tuple : \",concate_tup)"
      ]
    },
    {
      "cell_type": "code",
      "execution_count": null,
      "metadata": {
        "colab": {
          "base_uri": "https://localhost:8080/"
        },
        "id": "B0N-5aRlgw4C",
        "outputId": "3f561a01-ab45-476e-ef16-720649d361e5"
      },
      "outputs": [
        {
          "name": "stdout",
          "output_type": "stream",
          "text": [
            "Enter the first set of strings (separated by commas): 1,2,3,4,5\n",
            "Enter the second set of strings (separated by commas): 4,5,6,7,8\n",
            "Elements in the first set but not in the second set: {'2', '3', '1'}\n"
          ]
        }
      ],
      "source": [
        "# Develop a code that prompts the user to input two sets of strings. Then, print the elements that are present in the first set but not in the second set.\n",
        "\n",
        "str_1 = input(\"Enter the first set of strings (separated by commas): \")\n",
        "str_2 = input(\"Enter the second set of strings (separated by commas): \")\n",
        "set_1 = set(str_1.split(','))\n",
        "set_2 = set(str_2.split(','))\n",
        "difference_set = set_1 - set_2\n",
        "print(\"Elements in the first set but not in the second set:\", difference_set)"
      ]
    },
    {
      "cell_type": "code",
      "execution_count": null,
      "metadata": {
        "colab": {
          "base_uri": "https://localhost:8080/"
        },
        "id": "RM-n1Dqbn4Dn",
        "outputId": "ff384f64-0917-4be3-e412-3e7bdea3e925"
      },
      "outputs": [
        {
          "name": "stdout",
          "output_type": "stream",
          "text": [
            "Enter start index : 3\n",
            "Enter end index : 8\n",
            "new tuple :  (4, 5, 6, 7, 8, 9)\n"
          ]
        }
      ],
      "source": [
        "# Create a code that takes a tuple and two integers as input. The function should return a new tuple containing elements from the original tuple within the specified range of indices.\n",
        "\n",
        "tup=(1,2,3,4,5,6,7,8,9,0)\n",
        "start=int(input(\"Enter start index : \"))\n",
        "end=int(input(\"Enter end index : \"))\n",
        "new_tup=tup[start:end+1]\n",
        "print(\"new tuple : \",new_tup)"
      ]
    },
    {
      "cell_type": "code",
      "execution_count": 8,
      "metadata": {
        "colab": {
          "base_uri": "https://localhost:8080/"
        },
        "id": "Jzk4SuvVpYyM",
        "outputId": "42df6c29-9d2e-41f4-833c-24b5656438ac"
      },
      "outputs": [
        {
          "name": "stdout",
          "output_type": "stream",
          "text": [
            "Enter first set of characters : yogesh\n",
            "Enter second set of characters : patidar\n",
            "union set :  gopayehrsitd\n"
          ]
        }
      ],
      "source": [
        "# Write a code that prompts the user to input two sets of characters. Then, print the union of these two sets.\n",
        "\n",
        "set_1=set(input(\"Enter first set of characters : \"))\n",
        "set_2=set(input(\"Enter second set of characters : \"))\n",
        "union_set=set_1.union(set_2)\n",
        "print(\"union set : \",''.join(union_set))"
      ]
    },
    {
      "cell_type": "code",
      "execution_count": 23,
      "metadata": {
        "colab": {
          "base_uri": "https://localhost:8080/"
        },
        "id": "petBtuSyppWu",
        "outputId": "3c9c14f6-591b-46f6-856b-e56364526a8c"
      },
      "outputs": [
        {
          "name": "stdout",
          "output_type": "stream",
          "text": [
            "Enter a tuple of integers (e.g.: 1, 2, 3): 1,2,3,4,5,6\n",
            "maximum value :  6\n",
            "minimum value :  1\n"
          ]
        }
      ],
      "source": [
        "# Develop a code that takes a tuple of integers as input. The function should return the maximum and minimum values from the tuple using tuple unpacking.\n",
        "\n",
        "tup_input=input(\"Enter a tuple of integers (e.g.: 1, 2, 3): \")\n",
        "tup=tuple(map(int, tup_input.split(',')))\n",
        "max_value=max(tup)\n",
        "min_value=min(tup)\n",
        "print(\"maximum value : \",max_value)\n",
        "print(\"minimum value : \",min_value)"
      ]
    },
    {
      "cell_type": "code",
      "execution_count": 18,
      "metadata": {
        "colab": {
          "base_uri": "https://localhost:8080/"
        },
        "id": "wHW74sb1q7WH",
        "outputId": "d349b696-8198-4099-d01c-647f9f089a16"
      },
      "outputs": [
        {
          "name": "stdout",
          "output_type": "stream",
          "text": [
            "Enter first set of integers separated by commas : 1,2,3,4,5\n",
            "Enter second set of integers separated by commas : 4,5,6,7,8\n",
            "union set :  {1, 2, 3, 4, 5, 6, 7, 8}\n",
            "interceted set :  {4, 5}\n"
          ]
        }
      ],
      "source": [
        "# Create a code that defines two sets of integers. Then, print the union, intersection, and difference of these two sets.\n",
        "\n",
        "set_1=input(\"Enter first set of integers separated by commas : \")\n",
        "set_2=input(\"Enter second set of integers separated by commas : \")\n",
        "set_1=set(map(int,set_1.split(',')))\n",
        "set_2=set(map(int,set_2.split(',')))\n",
        "union_set=set_1.union(set_2)\n",
        "print(\"union set : \",union_set)\n",
        "intersection_set=set_1.intersection(set_2)\n",
        "print(\"interceted set : \",intersection_set)"
      ]
    },
    {
      "cell_type": "code",
      "execution_count": 24,
      "metadata": {
        "colab": {
          "base_uri": "https://localhost:8080/"
        },
        "id": "FjresQ-Jt48r",
        "outputId": "20857104-9588-4776-92e0-d41c0734afab"
      },
      "outputs": [
        {
          "name": "stdout",
          "output_type": "stream",
          "text": [
            "Enter a tuple of integers (e.g.: 1, 2, 3): 1,2,3,4,4,5\n",
            "Enter element : 4\n",
            "count of 4 in given tuple is 2\n"
          ]
        }
      ],
      "source": [
        "# Write a code that takes a tuple and an element as input. The function should return the count of occurrences of the given element in the tuple.\n",
        "\n",
        "tup_input=input(\"Enter a tuple of integers (e.g.: 1, 2, 3): \")\n",
        "tup=tuple(map(int, tup_input.split(',')))\n",
        "ele=int(input(\"Enter element : \"))\n",
        "count=0\n",
        "for i in tup:\n",
        "  if i==ele:\n",
        "    count+=1\n",
        "print(\"count of\",ele,\"in given tuple is\",count)"
      ]
    },
    {
      "cell_type": "code",
      "execution_count": 25,
      "metadata": {
        "colab": {
          "base_uri": "https://localhost:8080/"
        },
        "id": "3uiecyQOwF-H",
        "outputId": "62cd52d5-68f4-48c2-dfc4-9247cb352e6f"
      },
      "outputs": [
        {
          "name": "stdout",
          "output_type": "stream",
          "text": [
            "Enter the first set of strings separated by commas: 1,2,3,4,5\n",
            "Enter the second set of strings separated by commas: 4,5,6,7,8\n",
            "Symmetric difference: {'3', '6', '1', '2', '7', '8'}\n"
          ]
        }
      ],
      "source": [
        "# Develop a code that prompts the user to input two sets of strings. Then, print the symmetric difference of these two sets.\n",
        "\n",
        "set_1_input = input(\"Enter the first set of strings separated by commas: \")\n",
        "set_1 = set(set_1_input.split(','))\n",
        "set_2_input = input(\"Enter the second set of strings separated by commas: \")\n",
        "set_2 = set(set_2_input.split(','))\n",
        "symmetric_difference = set_1.symmetric_difference(set_2)\n",
        "print(\"Symmetric difference:\", symmetric_difference)"
      ]
    },
    {
      "cell_type": "code",
      "execution_count": 26,
      "metadata": {
        "colab": {
          "base_uri": "https://localhost:8080/"
        },
        "id": "eTOoskZHxpAn",
        "outputId": "7afb2c5f-cf38-4d9d-96e3-9040a2854b77"
      },
      "outputs": [
        {
          "name": "stdout",
          "output_type": "stream",
          "text": [
            "Enter a list of words separated by spaces: i love code in python but also i love c++\n",
            "Word frequencies: {'i': 2, 'love': 2, 'code': 1, 'in': 1, 'python': 1, 'but': 1, 'also': 1, 'c++': 1}\n"
          ]
        }
      ],
      "source": [
        "# Write a code that takes a list of words as input and returns a dictionary where the keys are unique words and the values are the frequencies of those words in the input list.\n",
        "\n",
        "input_words = input(\"Enter a list of words separated by spaces: \")\n",
        "word_list = input_words.split()\n",
        "frequency_dict = {}\n",
        "for word in word_list:\n",
        "    if word in frequency_dict:\n",
        "        frequency_dict[word] += 1\n",
        "    else:\n",
        "        frequency_dict[word] = 1\n",
        "print(\"Word frequencies:\", frequency_dict)"
      ]
    },
    {
      "cell_type": "code",
      "execution_count": 28,
      "metadata": {
        "colab": {
          "base_uri": "https://localhost:8080/"
        },
        "id": "cZgChUxrytWs",
        "outputId": "fce43a19-9f6d-4939-9971-2935d9353ff9"
      },
      "outputs": [
        {
          "name": "stdout",
          "output_type": "stream",
          "text": [
            "Enter the first dictionary (e.g., {'a': 1, 'b': 2}): {'apple':2,'ball':4}\n",
            "Enter the second dictionary (e.g., {'b': 3, 'c': 4}): {'app':4,'ball':2}\n",
            "Merged dictionary: {'apple': 2, 'ball': 6, 'app': 4}\n"
          ]
        }
      ],
      "source": [
        "# Write a code that takes two dictionaries as input and merges them into a single dictionary. If there are common keys, the values should be added together.\n",
        "\n",
        "dict_1_input = input(\"Enter the first dictionary (e.g., {'a': 1, 'b': 2}): \")\n",
        "dict_1 = eval(dict_1_input)\n",
        "dict_2_input = input(\"Enter the second dictionary (e.g., {'b': 3, 'c': 4}): \")\n",
        "dict_2 = eval(dict_2_input)\n",
        "merged_dict = dict_1.copy()\n",
        "for key, value in dict_2.items():\n",
        "    if key in merged_dict:\n",
        "        merged_dict[key] += value\n",
        "    else:\n",
        "        merged_dict[key] = value\n",
        "print(\"Merged dictionary:\", merged_dict)"
      ]
    },
    {
      "cell_type": "code",
      "execution_count": 29,
      "metadata": {
        "colab": {
          "base_uri": "https://localhost:8080/"
        },
        "id": "MgfqOChV0BP1",
        "outputId": "17aaaede-298c-4802-9063-3bdc37100b3d"
      },
      "outputs": [
        {
          "name": "stdout",
          "output_type": "stream",
          "text": [
            "Enter a list of keys separated by commas: apple,apple,ball,cat,dog,cat\n",
            "The corresponding value is: None\n"
          ]
        }
      ],
      "source": [
        "# Write a code to access a value in a nested dictionary. The function should take the dictionary and a list of keys as input and return the corresponding value.\n",
        "# if any of the keys do not exist in the dictionary, the function should return None.\n",
        "\n",
        "def access_nested_value(nested_dict, keys):\n",
        "    current_value = nested_dict\n",
        "    for key in keys:\n",
        "        if key in current_value:\n",
        "            current_value = current_value[key]\n",
        "        else:\n",
        "            return None\n",
        "    return current_value\n",
        "nested_dict = {\n",
        "    'a': {\n",
        "        'b': {\n",
        "            'c': 1\n",
        "        },\n",
        "        'd': 2\n",
        "    },\n",
        "    'e': 3\n",
        "}\n",
        "keys_input = input(\"Enter a list of keys separated by commas: \")\n",
        "keys = keys_input.split(',')\n",
        "keys = [key.strip() for key in keys]\n",
        "result = access_nested_value(nested_dict, keys)\n",
        "print(\"The corresponding value is:\", result)"
      ]
    },
    {
      "cell_type": "code",
      "execution_count": 31,
      "metadata": {
        "colab": {
          "base_uri": "https://localhost:8080/"
        },
        "id": "LuplRcnv1Tv9",
        "outputId": "9001d9c8-305c-414b-e64d-cee9f574f33f"
      },
      "outputs": [
        {
          "name": "stdout",
          "output_type": "stream",
          "text": [
            "Enter a dictionary (e.g., {'a': 3, 'b': 1, 'c': 2}): {'apple':3,'mango':4,'ram':3,'jam':1}\n",
            "Enter 'asc' for ascending or 'desc' for descending order: asc\n",
            "Sorted dictionary: {'jam': 1, 'apple': 3, 'ram': 3, 'mango': 4}\n"
          ]
        }
      ],
      "source": [
        "# Write a code that takes a dictionary as input and returns a sorted version of it based on the values. You can choose whether to sort in ascending or descending order.\n",
        "\n",
        "dict_input = input(\"Enter a dictionary (e.g., {'a': 3, 'b': 1, 'c': 2}): \")\n",
        "dictionary = eval(dict_input)\n",
        "order = input(\"Enter 'asc' for ascending or 'desc' for descending order: \").strip().lower()\n",
        "if order == 'asc':\n",
        "    sorted_dict = dict(sorted(dictionary.items(), key=lambda item: item[1]))\n",
        "elif order == 'desc':\n",
        "    sorted_dict = dict(sorted(dictionary.items(), key=lambda item: item[1], reverse=True))\n",
        "else:\n",
        "    print(\"Invalid order specified. Please enter 'asc' or 'desc'.\")\n",
        "    sorted_dict = Noney\n",
        "if sorted_dict is not None:\n",
        "    print(\"Sorted dictionary:\", sorted_dict)"
      ]
    },
    {
      "cell_type": "code",
      "execution_count": 5,
      "metadata": {
        "colab": {
          "base_uri": "https://localhost:8080/"
        },
        "id": "6YkRDCko376d",
        "outputId": "e63a0769-3068-4b44-be20-e3725a1ab350"
      },
      "outputs": [
        {
          "name": "stdout",
          "output_type": "stream",
          "text": [
            "Enter a dictionary (e.g., {'a': 1, 'b': 2, 'c': 1}): {'a': 1, 'b': 2, 'c': 1}\n",
            "Inverted dictionary: {1: ['a', 'c'], 2: ['b']}\n"
          ]
        }
      ],
      "source": [
        "# Write a code that inverts a dictionary, swapping keys and values.\n",
        "# Ensure that the inverted dictionary correctly handles cases where multiple keys have the same value by storing the keys as a list in the inverted dictionary.\n",
        "\n",
        "dict_input = input(\"Enter a dictionary (e.g., {'a': 1, 'b': 2, 'c': 1}): \")\n",
        "dictionary = eval(dict_input)\n",
        "inverted_dict = {}\n",
        "for key, value in dictionary.items():\n",
        "    if value in inverted_dict:\n",
        "        inverted_dict[value].append(key)\n",
        "    else:\n",
        "        inverted_dict[value] = [key]\n",
        "print(\"Inverted dictionary:\", inverted_dict)"
      ]
    }
  ],
  "metadata": {
    "colab": {
      "provenance": []
    },
    "kernelspec": {
      "display_name": "Python 3",
      "name": "python3"
    },
    "language_info": {
      "name": "python"
    }
  },
  "nbformat": 4,
  "nbformat_minor": 0
}
